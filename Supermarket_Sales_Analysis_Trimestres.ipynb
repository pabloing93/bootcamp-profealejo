{
  "cells": [
    {
      "cell_type": "markdown",
      "metadata": {
        "id": "PLtaci64wd6r"
      },
      "source": [
        "##SUPERMARKET SALES ANALYSIS"
      ]
    },
    {
      "cell_type": "markdown",
      "metadata": {
        "id": "wACpGYcDzDEW"
      },
      "source": [
        "Importando librerias"
      ]
    },
    {
      "cell_type": "code",
      "execution_count": 15,
      "metadata": {
        "id": "g_HJHRQov5Va"
      },
      "outputs": [],
      "source": [
        "import pandas as pd\n",
        "import matplotlib.pyplot as plt\n",
        "import matplotlib.dates as mdates\n",
        "import datetime\n",
        "import numpy"
      ]
    },
    {
      "cell_type": "markdown",
      "metadata": {
        "id": "-dK1tOrby5CS"
      },
      "source": [
        "Variables Globales"
      ]
    },
    {
      "cell_type": "code",
      "execution_count": 2,
      "metadata": {
        "id": "fngz8fMmxqYl"
      },
      "outputs": [],
      "source": [
        "global df_ventas\n",
        "global df_ventas_limpio"
      ]
    },
    {
      "cell_type": "markdown",
      "metadata": {
        "id": "3zy0f2_nR2Ie"
      },
      "source": [
        "*Importando la Base de Datos .csv*"
      ]
    },
    {
      "cell_type": "code",
      "execution_count": 16,
      "metadata": {
        "id": "5U2vwyqTykjp"
      },
      "outputs": [],
      "source": [
        "def obtencion_datos():\n",
        "    global df_ventas\n",
        "    df_ventas = pd.read_csv('reporte_ventas.csv', sep = ',')\n",
        "obtencion_datos()"
      ]
    },
    {
      "cell_type": "markdown",
      "metadata": {
        "id": "Uv-DnNT3mdIW"
      },
      "source": [
        "Normalización y limpieza de los datos"
      ]
    },
    {
      "cell_type": "code",
      "execution_count": 17,
      "metadata": {
        "id": "Y6GJrD9lKD-V"
      },
      "outputs": [],
      "source": [
        "#Formateamos el tipo de dato de las fechas a uno adecuado\n",
        "df_ventas['fecha_pedido'] = pd.to_datetime(df_ventas['fecha_pedido'], format='%Y-%m-%d')\n",
        "df_ventas['fecha_envio'] = pd.to_datetime(df_ventas['fecha_envio'], format='%Y-%m-%d')\n",
        "\n",
        "#Eliminar repetidos\n",
        "df_ventas_limpio = df_ventas.drop_duplicates()\n",
        "\n",
        "#Eliminamos registros de prueba\n",
        "def eliminar_registros_prueba(df):\n",
        "  return df.drop(df[df['nombre_cliente'] == 'prueba'].index)\n",
        "df_ventas_limpio = eliminar_registros_prueba(df_ventas_limpio)\n",
        "\n",
        "#Reemplazamos los nombres de clientes NaN por el valor \"missing\"\n",
        "df_ventas_limpio['nombre_cliente'].fillna('missing', inplace=True)"
      ]
    },
    {
      "cell_type": "code",
      "source": [
        "# Filtrar los registros con total_ganancia > 0\n",
        "df_ventas_limpio = df_ventas.drop(df_ventas[df_ventas[\"total_ganancia\"]  <= 0].index)\n",
        "\n",
        "#reiniciamos el index\n",
        "df_ventas_limpio.reset_index(inplace=True)\n",
        "df_ventas_limpio.drop(columns=['index'], inplace=True)"
      ],
      "metadata": {
        "id": "Ix9D0kXUCU0n"
      },
      "execution_count": 18,
      "outputs": []
    },
    {
      "cell_type": "code",
      "source": [
        "df_ventas_limpio"
      ],
      "metadata": {
        "id": "zf2blGcYJq5L"
      },
      "execution_count": null,
      "outputs": []
    },
    {
      "cell_type": "markdown",
      "metadata": {
        "id": "Fzo0DtOemdIX"
      },
      "source": [
        "1. ¿Cuáles son las ventas totales por año? ¿Y qué año tuvo mejor desempeño? (Pablo)"
      ]
    },
    {
      "cell_type": "code",
      "execution_count": null,
      "metadata": {
        "id": "CaGa6XYqmdIY"
      },
      "outputs": [],
      "source": [
        "#Code here\n",
        "#df_ventas_limpio"
      ]
    },
    {
      "cell_type": "markdown",
      "metadata": {
        "id": "ZSMeQvKQmdIY"
      },
      "source": [
        "2. ¿Cuáles son los 7 productos que más ganancias mostraron durante todo el periodo?"
      ]
    },
    {
      "cell_type": "code",
      "execution_count": null,
      "metadata": {
        "id": "jAhwilrtmdIY"
      },
      "outputs": [],
      "source": [
        "#Code here\n",
        "#df_ventas_limpio"
      ]
    },
    {
      "cell_type": "markdown",
      "metadata": {
        "id": "mLMsD5XsmdIZ"
      },
      "source": [
        "3. ¿Si separamos las ventas totales por año y por regiones ¿Qué insight podemos obtener de nuestras ventas? (Jhojan)"
      ]
    },
    {
      "cell_type": "code",
      "execution_count": null,
      "metadata": {
        "id": "yb6iMgPMmdIZ"
      },
      "outputs": [],
      "source": [
        "#Code here\n",
        "#df_ventas_limpio"
      ]
    },
    {
      "cell_type": "markdown",
      "metadata": {
        "id": "SeYi1rvUmdIZ"
      },
      "source": [
        "4. ¿Cuál es el método de envío más utilizado por los clientes del Supermercado? ¿Es proporcional para B2B y B2C?"
      ]
    },
    {
      "cell_type": "code",
      "execution_count": null,
      "metadata": {
        "id": "JxJXV384mdIZ"
      },
      "outputs": [],
      "source": [
        "#Code here\n",
        "#df_ventas_limpio"
      ]
    },
    {
      "cell_type": "markdown",
      "metadata": {
        "id": "rSbLMPsEmdIa"
      },
      "source": [
        "5. ¿Cuáles son las ventas totales por trimestre en el estado de Sao Paulo? (Everardo)"
      ]
    },
    {
      "cell_type": "markdown",
      "source": [
        "##PREPARACIÓN DE LOS DATOS"
      ],
      "metadata": {
        "id": "qr1eZWE3gRWu"
      }
    },
    {
      "cell_type": "code",
      "source": [
        "#Función pregunta_5()\n",
        "def pregunta_5():\n",
        "    # Definimos las variables globales\n",
        "    global df_ventas\n",
        "    global df_ventas_limpio"
      ],
      "metadata": {
        "id": "GvqkmyjnXV6s"
      },
      "execution_count": 20,
      "outputs": []
    },
    {
      "cell_type": "code",
      "execution_count": 21,
      "metadata": {
        "id": "UrQqFiaLmdIa"
      },
      "outputs": [],
      "source": [
        "#Creamos una copia del dataframe df_ventas_limpio:\n",
        "df_ventas_sp = df_ventas_limpio.copy()"
      ]
    },
    {
      "cell_type": "code",
      "source": [
        "#Filtramos los registros con valor São Paulo en la columna estado:\n",
        "df_ventas_sp = df_ventas_sp[df_ventas_sp['estado'] == 'São Paulo']\n",
        "\n",
        "#Establecemos la columna fecha_pedido como el nuevo índice:\n",
        "df_ventas_sp.set_index('fecha_pedido', inplace=True)"
      ],
      "metadata": {
        "id": "9MAcV1TpQXwD"
      },
      "execution_count": 22,
      "outputs": []
    },
    {
      "cell_type": "code",
      "source": [
        "#Redondear el valor de la columna total_venta y resetear el índice\n",
        "df_ventas_sp = df_ventas_sp.select_dtypes(include=['int64', 'float64']).resample('Q').agg('sum', numeric_only=True)\n",
        "df_ventas_sp['total_venta'] = df_ventas_sp['total_venta'].round(0)\n",
        "df_ventas_sp.reset_index(inplace=True)\n"
      ],
      "metadata": {
        "id": "BRsIM0fXVMB7"
      },
      "execution_count": 23,
      "outputs": []
    },
    {
      "cell_type": "code",
      "source": [
        "print(df_ventas_sp[['fecha_pedido', 'total_venta']])\n"
      ],
      "metadata": {
        "id": "7Lz5u8yoVaLi"
      },
      "execution_count": null,
      "outputs": []
    },
    {
      "cell_type": "markdown",
      "source": [
        "##VISUALIZACIÓN"
      ],
      "metadata": {
        "id": "hYd-GLtpgDlJ"
      }
    },
    {
      "cell_type": "code",
      "source": [
        "# Creamos la figura y el eje\n",
        "fig, ax = plt.subplots(figsize=(14, 4))\n",
        "\n",
        "# Creamos el gráfico de líneas\n",
        "ax.plot(df_ventas_sp['fecha_pedido'], df_ventas_sp['total_venta'], marker=\"o\", color='#059c7b', markevery=[False, False, False, True, False, False, False, True, False, False, False, True, False, False, False, True])\n",
        "\n",
        "# Reemplazamos las fechas por el nombre del mes\n",
        "x_labels = [\"Mar\", \"Jun\", \"Set\", \"Dic\"] * 4\n",
        "ax.set_xticks(df_ventas_sp.fecha_pedido)\n",
        "ax.set_xticklabels(x_labels, ha=\"center\")\n",
        "ax.set_title('Ventas por Trimestre en el estado de São Paulo de 2019 a 2022')\n",
        "\n",
        "# Colocamos los valores solo en el 4to trimestre\n",
        "for i in range(3, len(df_ventas_sp[\"total_venta\"]), 4):\n",
        "    posicionX = ax.get_xticks()[i]\n",
        "    posicionY = df_ventas_sp[\"total_venta\"][i]\n",
        "    texto = f\"$ {posicionY:,.0f}\"  # Modificado para mostrar números enteros\n",
        "    ax.text(posicionX, posicionY, texto, ha='center', va='bottom')\n",
        "\n",
        "# Etiquetas para el eje y\n",
        "ax.set_ylabel('Total de Ventas')\n",
        "\n",
        "# Mostramos el gráfico\n",
        "plt.show()\n"
      ],
      "metadata": {
        "id": "NhPD00SsBwhB"
      },
      "execution_count": null,
      "outputs": []
    },
    {
      "cell_type": "markdown",
      "metadata": {
        "id": "kukerMSGmdIa"
      },
      "source": [
        "6. ¿Existe otro insight que puedas proporcionar?"
      ]
    },
    {
      "cell_type": "code",
      "execution_count": null,
      "metadata": {
        "id": "45RqK5kSmdIa"
      },
      "outputs": [],
      "source": [
        "#Code here\n"
      ]
    }
  ],
  "metadata": {
    "colab": {
      "provenance": []
    },
    "kernelspec": {
      "display_name": "Python 3",
      "name": "python3"
    },
    "language_info": {
      "codemirror_mode": {
        "name": "ipython",
        "version": 3
      },
      "file_extension": ".py",
      "mimetype": "text/x-python",
      "name": "python",
      "nbconvert_exporter": "python",
      "pygments_lexer": "ipython3",
      "version": "3.12.0"
    }
  },
  "nbformat": 4,
  "nbformat_minor": 0
}