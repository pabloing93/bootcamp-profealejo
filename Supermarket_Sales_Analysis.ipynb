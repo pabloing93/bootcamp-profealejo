{
  "cells": [
    {
      "cell_type": "markdown",
      "metadata": {
        "id": "PLtaci64wd6r"
      },
      "source": [
        "##SUPERMARKET SALES ANALYSIS"
      ]
    },
    {
      "cell_type": "markdown",
      "metadata": {
        "id": "wACpGYcDzDEW"
      },
      "source": [
        "Importando librerias"
      ]
    },
    {
      "cell_type": "code",
      "execution_count": 105,
      "metadata": {
        "id": "g_HJHRQov5Va"
      },
      "outputs": [],
      "source": [
        "import pandas as pd\n",
        "import matplotlib.pyplot as plt\n",
        "import matplotlib.dates as mdates\n",
        "import datetime\n",
        "import numpy"
      ]
    },
    {
      "cell_type": "markdown",
      "metadata": {
        "id": "-dK1tOrby5CS"
      },
      "source": [
        "Variables Globales"
      ]
    },
    {
      "cell_type": "code",
      "execution_count": 106,
      "metadata": {
        "id": "fngz8fMmxqYl"
      },
      "outputs": [],
      "source": [
        "global df_ventas\n",
        "global df_ventas_limpio"
      ]
    },
    {
      "cell_type": "markdown",
      "metadata": {
        "id": "3zy0f2_nR2Ie"
      },
      "source": [
        "*Importando la Base de Datos .csv*"
      ]
    },
    {
      "cell_type": "code",
      "execution_count": 107,
      "metadata": {
        "id": "5U2vwyqTykjp"
      },
      "outputs": [],
      "source": [
        "def obtencion_datos():\n",
        "    global df_ventas\n",
        "    df_ventas = pd.read_csv('reporte_ventas.csv', sep = ',')\n",
        "obtencion_datos()"
      ]
    },
    {
      "cell_type": "markdown",
      "metadata": {},
      "source": [
        "Normalización y limpieza de los datos"
      ]
    },
    {
      "cell_type": "code",
      "execution_count": 136,
      "metadata": {
        "id": "Y6GJrD9lKD-V"
      },
      "outputs": [],
      "source": [
        "#Formateamos el tipo de dato de las fechas a uno adecuado\n",
        "df_ventas['fecha_pedido'] = pd.to_datetime(df_ventas['fecha_pedido'], format='%Y-%m-%d')\n",
        "df_ventas['fecha_envio'] = pd.to_datetime(df_ventas['fecha_envio'], format='%Y-%m-%d')\n",
        "\n",
        "#Eliminar repetidos\n",
        "df_ventas_limpio = df_ventas.drop_duplicates()\n",
        "\n",
        "#eliminamos registros de prueba\n",
        "def eliminar_registros_prueba(df):\n",
        "  return df.drop(df[df['nombre_cliente'] == 'prueba'].index)\n",
        "df_ventas_limpio = eliminar_registros_prueba(df_ventas_limpio)\n",
        "\n",
        "#reiniciamos el index\n",
        "df_ventas_limpio.reset_index(inplace=True)\n",
        "df_ventas_limpio.drop(columns=['index'], inplace=True)\n",
        "\n",
        "#Reemplazamos los nombres de clientes NaN por el valor \"missing\"\n",
        "df_ventas_limpio['nombre_cliente'].fillna('missing', inplace=True)\n"
      ]
    },
    {
      "cell_type": "code",
      "execution_count": 171,
      "metadata": {},
      "outputs": [
        {
          "data": {
            "text/plain": [
              "1723"
            ]
          },
          "execution_count": 171,
          "metadata": {},
          "output_type": "execute_result"
        }
      ],
      "source": [
        "#Continuar utilizando la variable df_ventas_limpio"
      ]
    }
  ],
  "metadata": {
    "colab": {
      "provenance": []
    },
    "kernelspec": {
      "display_name": "Python 3",
      "name": "python3"
    },
    "language_info": {
      "codemirror_mode": {
        "name": "ipython",
        "version": 3
      },
      "file_extension": ".py",
      "mimetype": "text/x-python",
      "name": "python",
      "nbconvert_exporter": "python",
      "pygments_lexer": "ipython3",
      "version": "3.12.0"
    }
  },
  "nbformat": 4,
  "nbformat_minor": 0
}
