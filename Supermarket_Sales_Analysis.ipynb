{
  "cells": [
    {
      "cell_type": "markdown",
      "metadata": {
        "id": "PLtaci64wd6r"
      },
      "source": [
        "# SUPERMARKET SALES ANALYSIS"
      ]
    },
    {
      "cell_type": "markdown",
      "metadata": {
        "id": "wACpGYcDzDEW"
      },
      "source": [
        "## Configuración inicial"
      ]
    },
    {
      "cell_type": "markdown",
      "metadata": {
        "id": "xh7r_b183bTO"
      },
      "source": [
        "### Importando librerias"
      ]
    },
    {
      "cell_type": "code",
      "execution_count": 1,
      "metadata": {
        "id": "g_HJHRQov5Va"
      },
      "outputs": [],
      "source": [
        "import pandas as pd\n",
        "import matplotlib.pyplot as plt\n",
        "import matplotlib.dates as mdates\n",
        "import datetime\n",
        "import numpy"
      ]
    },
    {
      "cell_type": "markdown",
      "metadata": {
        "id": "-dK1tOrby5CS"
      },
      "source": [
        "### Definiendo variables globales"
      ]
    },
    {
      "cell_type": "code",
      "execution_count": 2,
      "metadata": {
        "id": "fngz8fMmxqYl"
      },
      "outputs": [],
      "source": [
        "global df_ventas\n",
        "global df_ventas_limpio"
      ]
    },
    {
      "cell_type": "markdown",
      "metadata": {
        "id": "3zy0f2_nR2Ie"
      },
      "source": [
        "### *Importando la Base de Datos .csv*"
      ]
    },
    {
      "cell_type": "code",
      "execution_count": 3,
      "metadata": {
        "id": "5U2vwyqTykjp"
      },
      "outputs": [],
      "source": [
        "def obtencion_datos():\n",
        "    global df_ventas\n",
        "    df_ventas = pd.read_csv('reporte_ventas.csv', sep = ',')\n",
        "obtencion_datos()"
      ]
    },
    {
      "cell_type": "markdown",
      "metadata": {
        "id": "g6KhltF63bTP"
      },
      "source": [
        "## Normalización y limpieza de los datos"
      ]
    },
    {
      "cell_type": "code",
      "execution_count": 4,
      "metadata": {
        "id": "Y6GJrD9lKD-V"
      },
      "outputs": [],
      "source": [
        "#Formateamos el tipo de dato de las fechas a uno adecuado\n",
        "df_ventas['fecha_pedido'] = pd.to_datetime(df_ventas['fecha_pedido'], format='%Y-%m-%d')\n",
        "df_ventas['fecha_envio'] = pd.to_datetime(df_ventas['fecha_envio'], format='%Y-%m-%d')\n",
        "\n",
        "#Eliminar repetidos\n",
        "df_ventas_limpio = df_ventas.drop_duplicates()\n",
        "\n",
        "#eliminamos registros de prueba\n",
        "def eliminar_registros_prueba(df):\n",
        "  return df.drop(df[df['nombre_cliente'] == 'prueba'].index)\n",
        "df_ventas_limpio = eliminar_registros_prueba(df_ventas_limpio)\n",
        "\n",
        "#reiniciamos el index\n",
        "df_ventas_limpio.reset_index(inplace=True)\n",
        "df_ventas_limpio.drop(columns=['index'], inplace=True)\n",
        "\n",
        "#Reemplazamos los nombres de clientes NaN por el valor \"missing\"\n",
        "df_ventas_limpio['nombre_cliente'].fillna('missing', inplace=True)\n"
      ]
    },
    {
      "cell_type": "markdown",
      "metadata": {
        "id": "N7yguCZ73bTP"
      },
      "source": [
        "## INSIGHTS"
      ]
    },
    {
      "cell_type": "markdown",
      "metadata": {
        "id": "-VcYDNqS3bTQ"
      },
      "source": [
        "### 1. ¿Cuáles son las ventas totales por año? ¿Y qué año tuvo mejor desempeño?"
      ]
    },
    {
      "cell_type": "code",
      "execution_count": null,
      "metadata": {
        "id": "etLOP1SO3bTQ"
      },
      "outputs": [],
      "source": [
        "#Code here\n",
        "def pregunta_1():\n",
        "  df_ventas_ano = df_ventas_limpio[['fecha_pedido', 'total_venta']].copy()\n",
        "  df_ventas_ano['año'] = df_ventas_ano['fecha_pedido'].dt.year\n",
        "  df_ventas_ano.drop('fecha_pedido', axis=1, inplace=True)\n",
        "  df_ventas_ano = df_ventas_ano.groupby('año').aggregate('sum')\n",
        "  df_ventas_ano\n",
        "\n",
        "  fig, ax = plt.subplots(figsize=(10,4))\n",
        "  x = df_ventas_ano.index\n",
        "  y = df_ventas_ano['total_venta']\n",
        "  ax.bar(x,y, width=0.8, color=['#CDDBF3','#CDDBF3','#CDDBF3','#038781'])\n",
        "  plt.xticks([2019, 2020, 2021, 2022])\n",
        "  plt.box(False)\n",
        "  plt.gca().yaxis.set_visible(False)\n",
        "  plt.title('Ganancias en ventas por año', loc='left', fontsize=20)\n",
        "\n",
        "  for bar in ax.patches:\n",
        "    x = bar.get_x() + 0.1\n",
        "    y = bar.get_height()\n",
        "    valor = f'U$D {y}'\n",
        "    y_position = y + 50000\n",
        "    ax.text(x,y_position,valor)\n",
        "\n",
        "pregunta_1()\n"
      ]
    },
    {
      "cell_type": "markdown",
      "metadata": {
        "id": "fSYOVAHR3bTQ"
      },
      "source": [
        "### 2. ¿Cuáles son los 7 productos que más ganancias mostraron durante todo el periodo?"
      ]
    },
    {
      "cell_type": "code",
      "source": [
        "#Code here\n",
        "def pregunta_2():\n",
        "  # Definimos las variables globales\n",
        "  global df_ventas_limpio\n",
        "  df_top_ganancias = df_ventas_limpio[['tipo_producto', 'total_ganancia']].copy()\n",
        "  df_top_ganancias = df_top_ganancias.groupby('tipo_producto').agg({'total_ganancia': 'sum'}).reset_index()\n",
        "  df_top_ganancias = df_top_ganancias.sort_values('total_ganancia', ascending=False)\n",
        "  # return df_top_ganancias[df_top_ganancias['total_ganancia'] > 0]\n",
        "  df_top_ganancias = df_top_ganancias.head(7)\n",
        "  df_top_ganancias = df_top_ganancias.sort_values('total_ganancia', ascending=True)\n",
        "  # return df_top_ganancias\n",
        "  # print(df_top_ganancias.to_string(index=False))\n",
        "  # Configuración de la figura y el eje\n",
        "  fig, ax = plt.subplots(figsize=(10, 6))\n",
        "  ejeX = df_top_ganancias['tipo_producto']\n",
        "  ejeY = df_top_ganancias['total_ganancia']\n",
        "  colores = ['#425af5','#425af5', '#08aca4','#08aca4','#00756f','#00756f','#00756f']\n",
        "  barras = ax.barh(ejeX, ejeY, color=colores, align='center')\n",
        "  for barra in barras:\n",
        "    width = barra.get_width()\n",
        "    ax.text(width-1000, barra.get_y() + barra.get_height() / 2, f'USD$ {width:.2f}', ha='right', va='center', fontsize=14, color='white', weight='bold')\n",
        "  ax.set_title('Top 7 productos con mayor ganancia (2019-2022)', fontsize=20, weight ='bold')\n",
        "  ax.set_ylabel('Tipo de Producto')\n",
        "  ax.set_xlabel('Total de Ganancias')\n",
        "\n",
        "  plt.box(False)\n",
        "  plt.gca().xaxis.set_visible(False)\n",
        "\n",
        "  ax.text(11.5e4,6.1,\"Los datos indican que los 4 productos que generan\", fontsize=14)\n",
        "  ax.text(11.5e4,5.56,\"mayor ganancia\", fontsize=14, weight ='bold')\n",
        "  ax.text(13.8e4,5.56,\"son del departamento de\", fontsize =14)\n",
        "  ax.text(17.05e4,5.56,\"Electrónicos.\", fontsize =14, color='#00756f', weight='bold')\n",
        "  ax.text(11.5e4,4.5,\"Podemos notar tambien que el departamento de\", fontsize =14)\n",
        "  ax.text(11.5e4,4,\"Productos de Limpieza\", fontsize =14, color='#425af5', weight ='bold')\n",
        "  ax.text(15e4,4,\"tiene 2 productos con\", fontsize =14)\n",
        "  ax.text(11.5e4,3.5,\"buen margen de ganancia, totalizando\", fontsize =14)\n",
        "  ax.text(16.5e4,3.5,\"$ 109 mil\", fontsize=14, weight='bold')\n",
        "  ax.text(11.5e4,3,\"durante el periodo analizado.\", fontsize =14)\n",
        "\n",
        "  # Mostrar el gráfico\n",
        "  plt.show()\n",
        "\n",
        "pregunta_2()"
      ],
      "metadata": {
        "id": "tD0g3-Gr4L7J"
      },
      "execution_count": null,
      "outputs": []
    },
    {
      "cell_type": "markdown",
      "metadata": {
        "id": "sHf_F8Rw3bTR"
      },
      "source": [
        "### 3. ¿Si separamos las ventas totales por año y por regiones ¿Qué insight podemos obtener de nuestras ventas?"
      ]
    },
    {
      "cell_type": "code",
      "execution_count": null,
      "metadata": {
        "id": "a6l0E0nK3bTR"
      },
      "outputs": [],
      "source": [
        "#Code here\n",
        "def pregunta_3():\n",
        "  #Preparamos los datos\n",
        "  import math\n",
        "  global df_ventas_limpio\n",
        "  df_ventas_anos_region = df_ventas_limpio[['fecha_pedido', 'region', 'total_venta']].copy()\n",
        "  df_ventas_anos_region['año'] = df_ventas_anos_region['fecha_pedido'].dt.year\n",
        "  df_ventas_anos_region.drop('fecha_pedido', axis=1, inplace=True)\n",
        "  columna = df_ventas_anos_region['año']\n",
        "  fila = df_ventas_anos_region['region']\n",
        "  total_venta = df_ventas_anos_region['total_venta']\n",
        "  df_ventas_anos_region = pd.crosstab(columna, fila, values=total_venta, aggfunc='sum')\n",
        "  #Graficamos\n",
        "  colores=['#00756f', '#059a92', '#0abeb5', '#adb5bd', '#C6C9CD']\n",
        "  ax = df_ventas_anos_region.plot(kind='bar', stacked=True, figsize=(15,8), color=colores)\n",
        "  plt.xticks(rotation=0)\n",
        "  for container in ax.containers:\n",
        "    labels = []\n",
        "    for valor in container:\n",
        "      labels.append(f'U$D {math.ceil(round(valor.get_height(), -3))}'[:-3]+'K')\n",
        "    ax.bar_label(container, labels=labels, label_type='center', color='white', fontweight='bold')\n",
        "\n",
        "  plt.box(False)\n",
        "  plt.gca().yaxis.set_visible(False)\n",
        "\n",
        "pregunta_3()"
      ]
    },
    {
      "cell_type": "markdown",
      "metadata": {
        "id": "HIIWzsrM3bTR"
      },
      "source": [
        "### 4. ¿Cuál es el método de envío más utilizado por los clientes del Supermercado? ¿Es proporcional para B2B y B2C?"
      ]
    },
    {
      "cell_type": "code",
      "execution_count": null,
      "metadata": {
        "id": "_AtBDrU_3bTR"
      },
      "outputs": [],
      "source": [
        "#Code here\n",
        "def pregunta_4():\n",
        "  #Preparando los datos\n",
        "  global df_ventas_limpio\n",
        "  df_modo_envio = df_ventas_limpio[['modo_envio', 'segmento_cliente']].copy()\n",
        "  modo_envio = df_modo_envio['modo_envio']\n",
        "  segmento = df_modo_envio['segmento_cliente']\n",
        "  df_modo_envio = pd.crosstab(index=modo_envio, columns=segmento).sort_values('B2B')\n",
        "  #Graficando\n",
        "  fig, ax = plt.subplots(figsize=(15,7))\n",
        "  plt.box(False)\n",
        "  plt.gca().xaxis.set_visible(False)\n",
        "  plt.title('Método de envío más utilizado', loc='left', fontsize=20)\n",
        "  plt.text(0,3.5,'B2B', color='#038781', fontweight='bold', fontsize=12)\n",
        "  plt.text(180,3.5,'|', fontsize=12)\n",
        "  plt.text(220,3.5,'B2C', color='#adb5bd', fontweight='bold', fontsize=12)\n",
        "  x = df_modo_envio.index\n",
        "  y1 = df_modo_envio['B2B']\n",
        "  y2 = df_modo_envio['B2C']\n",
        "  ax.barh(x, y1, color='#00756f')\n",
        "  ax.barh(x, y2, left=y1, color='#adb5bd')\n",
        "  for container in ax.containers:\n",
        "    ax.bar_label(container, label_type='center', labels = (), color=\"white\", fontweight=\"bold\")\n",
        "\n",
        "pregunta_4()"
      ]
    },
    {
      "cell_type": "markdown",
      "metadata": {
        "id": "dYBBWulk3bTR"
      },
      "source": [
        "### 5. ¿Cuáles son las ventas totales por trimestre en el estado de Sao Paulo? (Everardo)"
      ]
    },
    {
      "cell_type": "code",
      "execution_count": null,
      "metadata": {
        "id": "qcyX7V-U3bTR"
      },
      "outputs": [],
      "source": [
        "#Code here\n",
        "def pregunta_5():\n",
        "  # # Definimos las variables globales\n",
        "  global df_ventas_limpio\n",
        "  df_ventas_sp = df_ventas_limpio.copy()\n",
        "  df_ventas_sp = df_ventas_sp.query('estado == \"São Paulo\"')[[\"fecha_pedido\", \"total_venta\"]]\n",
        "  # Establece la columna fecha_pedido como índice del DataFrame df_ventas_sp\n",
        "  df_ventas_sp.set_index('fecha_pedido', inplace=True)\n",
        "  # Aplica la función sum en el dataframe para calcular la venta total por trimestre, redondea a dos decimales\n",
        "  df_ventas_sp = df_ventas_sp.resample('Q').agg('sum')\n",
        "  df_ventas_sp['total_venta'] = round(df_ventas_sp['total_venta'] / 1e3, 2)\n",
        "  # Restablece el indice\n",
        "  df_ventas_sp = df_ventas_sp.reset_index()\n",
        "\n",
        "  # Área del gráfico\n",
        "  fig, ax = plt.subplots(figsize=(14, 4))\n",
        "\n",
        "  # Gráfico de linea\n",
        "  puntos_a_marcar = [True if mes.month == 12 else False for mes in pd.to_datetime(df_ventas_sp['fecha_pedido'])]\n",
        "  ax.plot(df_ventas_sp['fecha_pedido'], df_ventas_sp['total_venta'], lw=2, color='#BECCE3', marker='o',\n",
        "  markersize=10, markerfacecolor='#015954', markevery=puntos_a_marcar)\n",
        "\n",
        "  # customizer\n",
        "  ax.set_title('Ventas por trimestre en el estado de São Paulo', fontsize=18, color='#212529', loc='left')\n",
        "  ax.text(0.3, 0.95, 'De 2019 a 2022 (en miles de dólares)', transform=ax.transAxes, color='#53a871', fontsize=14)\n",
        "  ax.set_xlabel('')\n",
        "  ax.set_ylabel('')\n",
        "  ax.set_yticklabels([])\n",
        "  ax.set_yticks([])\n",
        "  ax.set_frame_on(False)\n",
        "  ax.xaxis.set_tick_params(labelsize=14, labelcolor='#05114a')\n",
        "  ax.tick_params(axis='both', which='both', length=0)\n",
        "  ax.yaxis.grid(False)\n",
        "  ax.xaxis.grid(False)\n",
        "  ax.spines['left'].set_visible(False)\n",
        "  ax.spines['bottom'].set_visible(False)\n",
        "  ax.spines['right'].set_visible(False)\n",
        "  ax.spines['top'].set_visible(False)\n",
        "  plt.ylim(0, 400)\n",
        "\n",
        "  # Definiendo el intervalo entre trimestres y colocando los nombres de los meses en los labels\n",
        "  ax.xaxis.set_major_locator(mdates.MonthLocator(interval=3))\n",
        "  ax.xaxis.set_major_formatter(mdates.DateFormatter('%b'))\n",
        "  x_labels = ['Mar', 'Jun', 'Set', 'Dic'] * 4\n",
        "  ax.set_xticks(df_ventas_sp.fecha_pedido)\n",
        "  ax.set_xticklabels(x_labels, ha='center')\n",
        "\n",
        "  # Ajustando el eje x colocando un nivel encima de la granularidad por medio de la exposición del año\n",
        "  texto = [16 * \" \" + str(i) + 16 * \" \" for i in range(2019, 2023)]\n",
        "  ax.text(ax.get_xbound()[0] + 35, -80,\n",
        "  f'|{texto[0]}|{texto[1]}|{texto[2]}|{texto[3]}|', fontsize=14, color='#05114a')\n",
        "\n",
        "  # Etiquetas trimestrales (...)\n",
        "  for i in range(3, len(df_ventas_sp[\"total_venta\"]), 4):\n",
        "      ax.text(x=ax.get_xticks()[i], y=df_ventas_sp['total_venta'][i] + 20,\n",
        "      s=f\"${df_ventas_sp['total_venta'][i].round(1)}mil\", color='#078c62', weight='bold', fontsize=10)\n",
        "      ax.text(x=ax.get_xticks()[i] + 118, y=df_ventas_sp['total_venta'][i] + 20,\n",
        "      s=f\"(4º tri {2019 + int(i/4)})\", color='#292a2e', weight='bold', fontsize=10)\n",
        "\n",
        "pregunta_5()"
      ]
    },
    {
      "cell_type": "markdown",
      "metadata": {
        "id": "KQJo0Ou13bTS"
      },
      "source": [
        "### 6. ¿Existe otro insight que puedas proporcionar?"
      ]
    },
    {
      "cell_type": "code",
      "execution_count": null,
      "metadata": {
        "id": "kIpVYd9u3bTS"
      },
      "outputs": [],
      "source": [
        "#Code here\n",
        "df_ventas_limpio"
      ]
    }
  ],
  "metadata": {
    "colab": {
      "provenance": []
    },
    "kernelspec": {
      "display_name": "Python 3",
      "name": "python3"
    },
    "language_info": {
      "codemirror_mode": {
        "name": "ipython",
        "version": 3
      },
      "file_extension": ".py",
      "mimetype": "text/x-python",
      "name": "python",
      "nbconvert_exporter": "python",
      "pygments_lexer": "ipython3",
      "version": "3.12.0"
    }
  },
  "nbformat": 4,
  "nbformat_minor": 0
}