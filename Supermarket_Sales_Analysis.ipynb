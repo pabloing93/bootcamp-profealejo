{
  "cells": [
    {
      "cell_type": "markdown",
      "metadata": {
        "id": "PLtaci64wd6r"
      },
      "source": [
        "##SUPERMARKET SALES ANALYSIS"
      ]
    },
    {
      "cell_type": "markdown",
      "metadata": {
        "id": "wACpGYcDzDEW"
      },
      "source": [
        "Importando librerias"
      ]
    },
    {
      "cell_type": "code",
      "execution_count": 1,
      "metadata": {
        "id": "g_HJHRQov5Va"
      },
      "outputs": [],
      "source": [
        "import pandas as pd\n",
        "import matplotlib.pyplot as plt\n",
        "import matplotlib.dates as mdates\n",
        "import datetime\n",
        "import numpy"
      ]
    },
    {
      "cell_type": "markdown",
      "metadata": {
        "id": "-dK1tOrby5CS"
      },
      "source": [
        "Variables Globales"
      ]
    },
    {
      "cell_type": "code",
      "execution_count": 2,
      "metadata": {
        "id": "fngz8fMmxqYl"
      },
      "outputs": [],
      "source": [
        "global df_ventas\n",
        "global df_ventas_limpio"
      ]
    },
    {
      "cell_type": "markdown",
      "metadata": {
        "id": "3zy0f2_nR2Ie"
      },
      "source": [
        "*Importando la Base de Datos .csv*"
      ]
    },
    {
      "cell_type": "code",
      "execution_count": 3,
      "metadata": {
        "id": "5U2vwyqTykjp"
      },
      "outputs": [],
      "source": [
        "def obtencion_datos():\n",
        "    global df_ventas\n",
        "    df_ventas = pd.read_csv('reporte_ventas.csv', sep = ',')\n",
        "obtencion_datos()"
      ]
    },
    {
      "cell_type": "markdown",
      "metadata": {
        "id": "Uv-DnNT3mdIW"
      },
      "source": [
        "Normalización y limpieza de los datos"
      ]
    },
    {
      "cell_type": "code",
      "execution_count": 4,
      "metadata": {
        "id": "Y6GJrD9lKD-V"
      },
      "outputs": [],
      "source": [
        "#Formateamos el tipo de dato de las fechas a uno adecuado\n",
        "df_ventas['fecha_pedido'] = pd.to_datetime(df_ventas['fecha_pedido'], format='%Y-%m-%d')\n",
        "df_ventas['fecha_envio'] = pd.to_datetime(df_ventas['fecha_envio'], format='%Y-%m-%d')\n",
        "\n",
        "#Eliminar repetidos\n",
        "df_ventas_limpio = df_ventas.drop_duplicates()\n",
        "\n",
        "#Eliminamos registros de prueba\n",
        "def eliminar_registros_prueba(df):\n",
        "  return df.drop(df[df['nombre_cliente'] == 'prueba'].index)\n",
        "df_ventas_limpio = eliminar_registros_prueba(df_ventas_limpio)\n",
        "\n",
        "#Reemplazamos los nombres de clientes NaN por el valor \"missing\"\n",
        "df_ventas_limpio['nombre_cliente'].fillna('missing', inplace=True)"
      ]
    },
    {
      "cell_type": "code",
      "source": [
        "# Filtrar los registros con total_ganancia > 0\n",
        "df_ventas_limpio = df_ventas.drop(df_ventas[df_ventas[\"total_ganancia\"]  <= 0].index)\n",
        "\n",
        "#reiniciamos el index\n",
        "df_ventas_limpio.reset_index(inplace=True)\n",
        "df_ventas_limpio.drop(columns=['index'], inplace=True)"
      ],
      "metadata": {
        "id": "Ix9D0kXUCU0n"
      },
      "execution_count": 5,
      "outputs": []
    },
    {
      "cell_type": "code",
      "source": [
        "df_ventas_limpio"
      ],
      "metadata": {
        "id": "zf2blGcYJq5L"
      },
      "execution_count": null,
      "outputs": []
    },
    {
      "cell_type": "markdown",
      "metadata": {
        "id": "Fzo0DtOemdIX"
      },
      "source": [
        "1. ¿Cuáles son las ventas totales por año? ¿Y qué año tuvo mejor desempeño? (Pablo)"
      ]
    },
    {
      "cell_type": "code",
      "execution_count": 7,
      "metadata": {
        "id": "CaGa6XYqmdIY"
      },
      "outputs": [],
      "source": [
        "#Code here\n",
        "#df_ventas_limpio"
      ]
    },
    {
      "cell_type": "markdown",
      "metadata": {
        "id": "ZSMeQvKQmdIY"
      },
      "source": [
        "2. ¿Cuáles son los 7 productos que más ganancias mostraron durante todo el periodo?"
      ]
    },
    {
      "cell_type": "code",
      "execution_count": 8,
      "metadata": {
        "id": "jAhwilrtmdIY"
      },
      "outputs": [],
      "source": [
        "#Code here\n",
        "#df_ventas_limpio"
      ]
    },
    {
      "cell_type": "markdown",
      "metadata": {
        "id": "mLMsD5XsmdIZ"
      },
      "source": [
        "3. ¿Si separamos las ventas totales por año y por regiones ¿Qué insight podemos obtener de nuestras ventas? (Jhojan)"
      ]
    },
    {
      "cell_type": "code",
      "execution_count": 9,
      "metadata": {
        "id": "yb6iMgPMmdIZ"
      },
      "outputs": [],
      "source": [
        "#Code here\n",
        "#df_ventas_limpio"
      ]
    },
    {
      "cell_type": "markdown",
      "metadata": {
        "id": "SeYi1rvUmdIZ"
      },
      "source": [
        "4. ¿Cuál es el método de envío más utilizado por los clientes del Supermercado? ¿Es proporcional para B2B y B2C?"
      ]
    },
    {
      "cell_type": "code",
      "execution_count": 10,
      "metadata": {
        "id": "JxJXV384mdIZ"
      },
      "outputs": [],
      "source": [
        "#Code here\n",
        "#df_ventas_limpio"
      ]
    },
    {
      "cell_type": "markdown",
      "metadata": {
        "id": "rSbLMPsEmdIa"
      },
      "source": [
        "5. ¿Cuáles son las ventas totales por trimestre en el estado de Sao Paulo? (Everardo)"
      ]
    },
    {
      "cell_type": "markdown",
      "source": [
        "##PREPARACIÓN DE LOS DATOS"
      ],
      "metadata": {
        "id": "qr1eZWE3gRWu"
      }
    },
    {
      "cell_type": "code",
      "source": [
        "#Función pregunta_5()\n",
        "def pregunta_5():\n",
        "    # Definimos las variables globales\n",
        "    global df_ventas\n",
        "    global df_ventas_limpio\n",
        "#Creamos una copia del dataframe df_ventas_limpio:\n",
        "df_ventas_sp = df_ventas_limpio.copy()\n",
        "#Filtramos los registros con valor São Paulo en la columna estado:\n",
        "df_ventas_sp = df_ventas_sp[df_ventas_sp['estado'] == 'São Paulo']\n",
        "\n",
        "#Establecemos la columna fecha_pedido como el nuevo índice:\n",
        "df_ventas_sp.set_index('fecha_pedido', inplace=True)\n",
        "#Redondear el valor de la columna total_venta y resetear el índice\n",
        "df_ventas_sp = df_ventas_sp.select_dtypes(include=['int64', 'float64']).resample('Q').agg('sum', numeric_only=True)\n",
        "df_ventas_sp['total_venta'] = df_ventas_sp['total_venta'].round()\n",
        "\n",
        "df_ventas_sp.reset_index(inplace=True)\n"
      ],
      "metadata": {
        "id": "GvqkmyjnXV6s"
      },
      "execution_count": 11,
      "outputs": []
    },
    {
      "cell_type": "code",
      "source": [
        "print(df_ventas_sp[['fecha_pedido', 'total_venta']])\n"
      ],
      "metadata": {
        "id": "7Lz5u8yoVaLi"
      },
      "execution_count": null,
      "outputs": []
    },
    {
      "cell_type": "markdown",
      "source": [
        "##VISUALIZACIÓN"
      ],
      "metadata": {
        "id": "hYd-GLtpgDlJ"
      }
    },
    {
      "cell_type": "code",
      "source": [
        "# Función\n",
        "def pregunta_5():\n",
        "    global df_ventas\n",
        "    global df_ventas_limpio\n",
        "\n",
        "    # Copia dataframe df_ventas_limpio con nuevo nombre df_ventas_sp\n",
        "    df_ventas_sp = df_ventas_limpio.copy()\n",
        "    df_ventas_sp = df_ventas_sp.query('estado == \"São Paulo\"')[[\"fecha_pedido\", \"total_venta\"]]\n",
        "    # Establece la columna fecha_pedido como índice del DataFrame df_ventas_sp\n",
        "    df_ventas_sp.set_index('fecha_pedido', inplace=True)\n",
        "    # Aplica la función sum en el dataframe para calcular la venta total por trimestre, redondea a dos decimales\n",
        "    df_ventas_sp = df_ventas_sp.resample('Q').agg('sum')\n",
        "    df_ventas_sp['total_venta'] = round(df_ventas_sp['total_venta'] / 1e3, 2)\n",
        "    # Restablece el indice\n",
        "    df_ventas_sp = df_ventas_sp.reset_index()\n",
        "\n",
        "    # Área del gráfico\n",
        "    fig, ax = plt.subplots(figsize=(14, 4))\n",
        "\n",
        "    # Gráfico de linea\n",
        "    puntos_a_marcar = [True if mes.month == 12 else False for mes in pd.to_datetime(df_ventas_sp['fecha_pedido'])]\n",
        "    ax.plot(df_ventas_sp['fecha_pedido'], df_ventas_sp['total_venta'], lw=2, color='#078c62', marker='o',\n",
        "    markersize=10, markerfacecolor='#078c62', markevery=puntos_a_marcar)\n",
        "\n",
        "    # customizer\n",
        "    ax.set_title('Ventas por trimestre en el estado de São Paulo', fontsize=18, color='#212529', loc='left')\n",
        "    ax.text(0.3, 0.95, 'De 2019 a 2022 (en miles de dólares)', transform=ax.transAxes, color='#0521ad', fontsize=14)\n",
        "    ax.set_xlabel('')\n",
        "    ax.set_ylabel('')\n",
        "    ax.set_yticklabels([])\n",
        "    ax.set_yticks([])\n",
        "    ax.set_frame_on(False)\n",
        "    ax.xaxis.set_tick_params(labelsize=14, labelcolor='#05114a')\n",
        "    ax.tick_params(axis='both', which='both', length=0)\n",
        "    ax.yaxis.grid(False)\n",
        "    ax.xaxis.grid(False)\n",
        "    ax.spines['left'].set_visible(False)\n",
        "    ax.spines['bottom'].set_visible(False)\n",
        "    ax.spines['right'].set_visible(False)\n",
        "    ax.spines['top'].set_visible(False)\n",
        "    plt.ylim(0, 400)\n",
        "\n",
        "    # Definiendo el intervalo entre trimestres y colocando los nombres de los meses en los labels\n",
        "    ax.xaxis.set_major_locator(mdates.MonthLocator(interval=3))\n",
        "    ax.xaxis.set_major_formatter(mdates.DateFormatter('%b'))\n",
        "    x_labels = ['Mar', 'Jun', 'Set', 'Dic'] * 4\n",
        "    ax.set_xticks(df_ventas_sp.fecha_pedido)\n",
        "    ax.set_xticklabels(x_labels, ha='center')\n",
        "\n",
        "    # Ajustando el eje x colocando un nivel encima de la granularidad por medio de la exposición del año\n",
        "    texto = [16 * \" \" + str(i) + 16 * \" \" for i in range(2019, 2023)]\n",
        "    ax.text(ax.get_xbound()[0] + 35, -80,\n",
        "    f'|{texto[0]}|{texto[1]}|{texto[2]}|{texto[3]}|', fontsize=14, color='#05114a')\n",
        "\n",
        "    # Etiquetas trimestrales (...)\n",
        "    for i in range(3, len(df_ventas_sp[\"total_venta\"]), 4):\n",
        "        ax.text(x=ax.get_xticks()[i], y=df_ventas_sp['total_venta'][i] + 20,\n",
        "        s=f\"${df_ventas_sp['total_venta'][i].round(1)}mil\", color='#078c62', weight='bold', fontsize=10)\n",
        "        ax.text(x=ax.get_xticks()[i] + 118, y=df_ventas_sp['total_venta'][i] + 20,\n",
        "        s=f\"(4º tri {2019 + int(i/4)})\", color='#292a2e', weight='bold', fontsize=10)\n",
        "\n",
        "pregunta_5()\n"
      ],
      "metadata": {
        "id": "NhPD00SsBwhB"
      },
      "execution_count": null,
      "outputs": []
    },
    {
      "cell_type": "markdown",
      "metadata": {
        "id": "kukerMSGmdIa"
      },
      "source": [
        "6. ¿Existe otro insight que puedas proporcionar?"
      ]
    },
    {
      "cell_type": "code",
      "source": [],
      "metadata": {
        "id": "fyQ6SkRBhs36"
      },
      "execution_count": 13,
      "outputs": []
    }
  ],
  "metadata": {
    "colab": {
      "provenance": []
    },
    "kernelspec": {
      "display_name": "Python 3",
      "name": "python3"
    },
    "language_info": {
      "codemirror_mode": {
        "name": "ipython",
        "version": 3
      },
      "file_extension": ".py",
      "mimetype": "text/x-python",
      "name": "python",
      "nbconvert_exporter": "python",
      "pygments_lexer": "ipython3",
      "version": "3.12.0"
    }
  },
  "nbformat": 4,
  "nbformat_minor": 0
}