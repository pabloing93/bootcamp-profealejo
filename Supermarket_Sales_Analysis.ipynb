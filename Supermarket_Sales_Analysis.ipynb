{
  "nbformat": 4,
  "nbformat_minor": 0,
  "metadata": {
    "colab": {
      "provenance": []
    },
    "kernelspec": {
      "name": "python3",
      "display_name": "Python 3"
    },
    "language_info": {
      "name": "python"
    }
  },
  "cells": [
    {
      "cell_type": "markdown",
      "source": [
        "##SUPERMARKET SALES ANALYSIS"
      ],
      "metadata": {
        "id": "PLtaci64wd6r"
      }
    },
    {
      "cell_type": "markdown",
      "source": [
        "Importando librerias"
      ],
      "metadata": {
        "id": "wACpGYcDzDEW"
      }
    },
    {
      "cell_type": "code",
      "execution_count": 70,
      "metadata": {
        "id": "g_HJHRQov5Va"
      },
      "outputs": [],
      "source": [
        "import pandas as pd\n",
        "import matplotlib.pyplot as plt\n",
        "import matplotlib.dates as mdates\n",
        "import datetime"
      ]
    },
    {
      "cell_type": "markdown",
      "source": [
        "Versión de las librerias"
      ],
      "metadata": {
        "id": "Ae7COSw_yud1"
      }
    },
    {
      "cell_type": "code",
      "source": [
        "#!python -V\n",
        "#print('------')\n",
        "#!pip show Pandas | grep 'Name\\|Version'\n",
        "#print('------')\n",
        "#!pip show Matplotlib | grep 'Name\\|Version'"
      ],
      "metadata": {
        "id": "juADY8Rsydgt"
      },
      "execution_count": 71,
      "outputs": []
    },
    {
      "cell_type": "markdown",
      "source": [
        "Variables Globales"
      ],
      "metadata": {
        "id": "-dK1tOrby5CS"
      }
    },
    {
      "cell_type": "code",
      "source": [
        "global df_ventas\n",
        "global df_ventas_limpio"
      ],
      "metadata": {
        "id": "fngz8fMmxqYl"
      },
      "execution_count": 72,
      "outputs": []
    },
    {
      "cell_type": "markdown",
      "source": [
        "*Importando la Base de Datos .csv*"
      ],
      "metadata": {
        "id": "3zy0f2_nR2Ie"
      }
    },
    {
      "cell_type": "code",
      "source": [
        "def obtencion_datos():\n",
        "    global df_ventas\n",
        "    df_ventas = pd.read_csv('reporte_ventas.csv', sep = ',')\n",
        "obtencion_datos()"
      ],
      "metadata": {
        "id": "5U2vwyqTykjp"
      },
      "execution_count": 140,
      "outputs": []
    },
    {
      "cell_type": "code",
      "source": [
        "# Imprimir los datos\n",
        "df_ventas"
      ],
      "metadata": {
        "id": "s9tDVtDGyk4x"
      },
      "execution_count": null,
      "outputs": []
    },
    {
      "cell_type": "code",
      "source": [
        "type(df_ventas)"
      ],
      "metadata": {
        "id": "XK4-Zm6Hyk_A"
      },
      "execution_count": null,
      "outputs": []
    },
    {
      "cell_type": "code",
      "source": [
        "#Formato Fecha\n",
        "\n",
        "df_ventas['fecha_pedido'] = pd.to_datetime(df_ventas['fecha_pedido'], format='%Y-%m-%d')\n",
        "df_ventas['fecha_envio'] = pd.to_datetime(df_ventas['fecha_envio'], format='%Y-%m-%d')"
      ],
      "metadata": {
        "id": "oo7j2Sx7EBWQ"
      },
      "execution_count": 143,
      "outputs": []
    },
    {
      "cell_type": "code",
      "source": [
        "# Imprimir los datos\n",
        "df_ventas"
      ],
      "metadata": {
        "id": "rrzjRqstEA9w"
      },
      "execution_count": null,
      "outputs": []
    },
    {
      "cell_type": "code",
      "source": [
        "#Info del dataframe\n",
        "df_ventas.info()"
      ],
      "metadata": {
        "id": "Nj1rTXYCJ_Sb"
      },
      "execution_count": null,
      "outputs": []
    },
    {
      "cell_type": "code",
      "source": [
        "#Eliminar repetidos y guarda el resultado en la variable global df_ventas_limpio\n",
        "df_ventas.duplicated().sum()\n",
        "global df_ventas_limpio\n",
        "df_ventas_limpio = df_ventas.drop_duplicates()"
      ],
      "metadata": {
        "id": "Y6GJrD9lKD-V"
      },
      "execution_count": 146,
      "outputs": []
    },
    {
      "cell_type": "code",
      "source": [
        "df_ventas_limpio"
      ],
      "metadata": {
        "id": "WTA2AsGS9s0r"
      },
      "execution_count": null,
      "outputs": []
    },
    {
      "cell_type": "code",
      "source": [
        "df_ventas_limpio.duplicated().sum()"
      ],
      "metadata": {
        "id": "7IodUU6n_JSu"
      },
      "execution_count": null,
      "outputs": []
    },
    {
      "cell_type": "code",
      "source": [
        "#Eliminando elementos con el nombre \"prueba\" de la columna \"nombre_cliente\".\n",
        "#Funcion eliminar_registros_prueba\n",
        "\n",
        "def eliminar_registros_prueba(df):\n",
        "    return df.drop(df[df['nombre_cliente'] == 'prueba'].index)\n",
        "df_ventas_limpio = eliminar_registros_prueba(df_ventas_limpio)"
      ],
      "metadata": {
        "id": "LsEgdeG7JXU_"
      },
      "execution_count": 159,
      "outputs": []
    },
    {
      "cell_type": "code",
      "source": [
        "# Generar un nuevo dataframe \"reporte_ventas_limpio1.csv\"\n",
        "df_ventas_limpio.to_csv('reporte_ventas_limpio1.csv', index=False)\n",
        "\n",
        "df_ventas_limpio = pd.read_csv('reporte_ventas.csv', sep=',')\n",
        "eliminar_registros_prueba = df_ventas[df_ventas['nombre_cliente'] != 'prueba']"
      ],
      "metadata": {
        "id": "OIWFmo3-RVa8"
      },
      "execution_count": 166,
      "outputs": []
    },
    {
      "cell_type": "code",
      "source": [
        "#df_ventas_limpio1 = pd.read_csv('reporte_ventas_limpio1.csv', sep=',')\n",
        "# Imprimir el DataFrame\n",
        "df_ventas_limpio1"
      ],
      "metadata": {
        "id": "gUiIAxXJR6j2"
      },
      "execution_count": null,
      "outputs": []
    },
    {
      "cell_type": "code",
      "source": [
        "df_ventas_limpio1.info()"
      ],
      "metadata": {
        "id": "mey-y1d6TsGT"
      },
      "execution_count": null,
      "outputs": []
    },
    {
      "cell_type": "code",
      "source": [],
      "metadata": {
        "id": "ySrQ6vaMTr-j"
      },
      "execution_count": null,
      "outputs": []
    }
  ]
}