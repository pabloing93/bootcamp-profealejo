{
  "cells": [
    {
      "cell_type": "markdown",
      "metadata": {
        "id": "PLtaci64wd6r"
      },
      "source": [
        "##SUPERMARKET SALES ANALYSIS"
      ]
    },
    {
      "cell_type": "markdown",
      "metadata": {
        "id": "wACpGYcDzDEW"
      },
      "source": [
        "Importando librerias"
      ]
    },
    {
      "cell_type": "code",
      "execution_count": 6,
      "metadata": {
        "id": "g_HJHRQov5Va"
      },
      "outputs": [],
      "source": [
        "import pandas as pd\n",
        "import matplotlib.pyplot as plt\n",
        "import matplotlib.dates as mdates\n",
        "import datetime\n",
        "import numpy"
      ]
    },
    {
      "cell_type": "markdown",
      "metadata": {
        "id": "-dK1tOrby5CS"
      },
      "source": [
        "Variables Globales"
      ]
    },
    {
      "cell_type": "code",
      "execution_count": 7,
      "metadata": {
        "id": "fngz8fMmxqYl"
      },
      "outputs": [],
      "source": [
        "global df_ventas\n",
        "global df_ventas_limpio"
      ]
    },
    {
      "cell_type": "markdown",
      "metadata": {
        "id": "3zy0f2_nR2Ie"
      },
      "source": [
        "*Importando la Base de Datos .csv*"
      ]
    },
    {
      "cell_type": "code",
      "execution_count": 8,
      "metadata": {
        "id": "5U2vwyqTykjp"
      },
      "outputs": [
        {
          "data": {
            "text/html": [
              "<div>\n",
              "<style scoped>\n",
              "    .dataframe tbody tr th:only-of-type {\n",
              "        vertical-align: middle;\n",
              "    }\n",
              "\n",
              "    .dataframe tbody tr th {\n",
              "        vertical-align: top;\n",
              "    }\n",
              "\n",
              "    .dataframe thead th {\n",
              "        text-align: right;\n",
              "    }\n",
              "</style>\n",
              "<table border=\"1\" class=\"dataframe\">\n",
              "  <thead>\n",
              "    <tr style=\"text-align: right;\">\n",
              "      <th></th>\n",
              "      <th>fecha_pedido</th>\n",
              "      <th>fecha_envio</th>\n",
              "      <th>modo_envio</th>\n",
              "      <th>nombre_cliente</th>\n",
              "      <th>segmento_cliente</th>\n",
              "      <th>ciudad</th>\n",
              "      <th>estado</th>\n",
              "      <th>region</th>\n",
              "      <th>departamento_producto</th>\n",
              "      <th>tipo_producto</th>\n",
              "      <th>precio_base</th>\n",
              "      <th>precio_unit_sin_desc</th>\n",
              "      <th>descuento</th>\n",
              "      <th>precio_unit_venta</th>\n",
              "      <th>cantidad_pedido</th>\n",
              "      <th>total_venta</th>\n",
              "      <th>total_ganancia</th>\n",
              "    </tr>\n",
              "  </thead>\n",
              "  <tbody>\n",
              "    <tr>\n",
              "      <th>0</th>\n",
              "      <td>2021-11-09</td>\n",
              "      <td>2021-11-12</td>\n",
              "      <td>Económico</td>\n",
              "      <td>Thiago Silveira</td>\n",
              "      <td>B2C</td>\n",
              "      <td>Ribeirão Preto</td>\n",
              "      <td>São Paulo</td>\n",
              "      <td>Sureste</td>\n",
              "      <td>Ropa</td>\n",
              "      <td>Camisetas</td>\n",
              "      <td>409.70</td>\n",
              "      <td>445.33</td>\n",
              "      <td>0.000</td>\n",
              "      <td>445.33</td>\n",
              "      <td>2</td>\n",
              "      <td>890.66</td>\n",
              "      <td>71.26</td>\n",
              "    </tr>\n",
              "    <tr>\n",
              "      <th>1</th>\n",
              "      <td>2021-11-09</td>\n",
              "      <td>2021-11-12</td>\n",
              "      <td>Económico</td>\n",
              "      <td>Thiago Silveira</td>\n",
              "      <td>B2C</td>\n",
              "      <td>Ribeirão Preto</td>\n",
              "      <td>São Paulo</td>\n",
              "      <td>Sureste</td>\n",
              "      <td>Ropa</td>\n",
              "      <td>Jeans</td>\n",
              "      <td>705.10</td>\n",
              "      <td>829.53</td>\n",
              "      <td>0.000</td>\n",
              "      <td>829.53</td>\n",
              "      <td>3</td>\n",
              "      <td>2488.59</td>\n",
              "      <td>373.29</td>\n",
              "    </tr>\n",
              "    <tr>\n",
              "      <th>2</th>\n",
              "      <td>2021-06-13</td>\n",
              "      <td>2021-06-17</td>\n",
              "      <td>Económico</td>\n",
              "      <td>Giovanna Lima</td>\n",
              "      <td>B2B</td>\n",
              "      <td>Rio de Janeiro</td>\n",
              "      <td>Rio de Janeiro</td>\n",
              "      <td>Sureste</td>\n",
              "      <td>Productos de Limpieza</td>\n",
              "      <td>Toallitas desinfectantes</td>\n",
              "      <td>19.02</td>\n",
              "      <td>24.86</td>\n",
              "      <td>0.000</td>\n",
              "      <td>24.86</td>\n",
              "      <td>2</td>\n",
              "      <td>49.72</td>\n",
              "      <td>11.68</td>\n",
              "    </tr>\n",
              "    <tr>\n",
              "      <th>3</th>\n",
              "      <td>2020-10-12</td>\n",
              "      <td>2020-10-19</td>\n",
              "      <td>Entrega estándar</td>\n",
              "      <td>Ana Júlia da Cruz</td>\n",
              "      <td>B2C</td>\n",
              "      <td>Foz do Iguaçu</td>\n",
              "      <td>Paraná</td>\n",
              "      <td>Sur</td>\n",
              "      <td>Ropa</td>\n",
              "      <td>Zapatillas</td>\n",
              "      <td>781.38</td>\n",
              "      <td>840.19</td>\n",
              "      <td>0.225</td>\n",
              "      <td>651.15</td>\n",
              "      <td>5</td>\n",
              "      <td>3255.75</td>\n",
              "      <td>-651.15</td>\n",
              "    </tr>\n",
              "    <tr>\n",
              "      <th>4</th>\n",
              "      <td>2020-10-12</td>\n",
              "      <td>2020-10-19</td>\n",
              "      <td>Entrega estándar</td>\n",
              "      <td>Ana Júlia da Cruz</td>\n",
              "      <td>B2C</td>\n",
              "      <td>Foz do Iguaçu</td>\n",
              "      <td>Paraná</td>\n",
              "      <td>Sur</td>\n",
              "      <td>Productos de Limpieza</td>\n",
              "      <td>Papel higiénico</td>\n",
              "      <td>35.88</td>\n",
              "      <td>42.24</td>\n",
              "      <td>0.100</td>\n",
              "      <td>38.02</td>\n",
              "      <td>2</td>\n",
              "      <td>76.04</td>\n",
              "      <td>4.28</td>\n",
              "    </tr>\n",
              "    <tr>\n",
              "      <th>...</th>\n",
              "      <td>...</td>\n",
              "      <td>...</td>\n",
              "      <td>...</td>\n",
              "      <td>...</td>\n",
              "      <td>...</td>\n",
              "      <td>...</td>\n",
              "      <td>...</td>\n",
              "      <td>...</td>\n",
              "      <td>...</td>\n",
              "      <td>...</td>\n",
              "      <td>...</td>\n",
              "      <td>...</td>\n",
              "      <td>...</td>\n",
              "      <td>...</td>\n",
              "      <td>...</td>\n",
              "      <td>...</td>\n",
              "      <td>...</td>\n",
              "    </tr>\n",
              "    <tr>\n",
              "      <th>8949</th>\n",
              "      <td>2020-06-19</td>\n",
              "      <td>2020-06-21</td>\n",
              "      <td>Envío rápido</td>\n",
              "      <td>Isabel Almeida</td>\n",
              "      <td>B2B</td>\n",
              "      <td>São Vicente</td>\n",
              "      <td>São Paulo</td>\n",
              "      <td>Sureste</td>\n",
              "      <td>Ropa</td>\n",
              "      <td>Jeans</td>\n",
              "      <td>522.75</td>\n",
              "      <td>607.40</td>\n",
              "      <td>0.100</td>\n",
              "      <td>546.66</td>\n",
              "      <td>4</td>\n",
              "      <td>2186.64</td>\n",
              "      <td>95.64</td>\n",
              "    </tr>\n",
              "    <tr>\n",
              "      <th>8950</th>\n",
              "      <td>2020-06-19</td>\n",
              "      <td>2020-06-21</td>\n",
              "      <td>Envío rápido</td>\n",
              "      <td>Isabel Almeida</td>\n",
              "      <td>B2B</td>\n",
              "      <td>São Vicente</td>\n",
              "      <td>São Paulo</td>\n",
              "      <td>Sureste</td>\n",
              "      <td>Productos de Limpieza</td>\n",
              "      <td>Bolsas de basura</td>\n",
              "      <td>14.54</td>\n",
              "      <td>19.58</td>\n",
              "      <td>0.100</td>\n",
              "      <td>17.62</td>\n",
              "      <td>4</td>\n",
              "      <td>70.48</td>\n",
              "      <td>12.32</td>\n",
              "    </tr>\n",
              "    <tr>\n",
              "      <th>8951</th>\n",
              "      <td>2021-12-04</td>\n",
              "      <td>2021-12-07</td>\n",
              "      <td>Envío rápido</td>\n",
              "      <td>Isis Alves</td>\n",
              "      <td>B2C</td>\n",
              "      <td>Rio de Janeiro</td>\n",
              "      <td>Rio de Janeiro</td>\n",
              "      <td>Sureste</td>\n",
              "      <td>Ropa</td>\n",
              "      <td>Vestidos</td>\n",
              "      <td>48.83</td>\n",
              "      <td>63.41</td>\n",
              "      <td>0.000</td>\n",
              "      <td>63.41</td>\n",
              "      <td>6</td>\n",
              "      <td>380.46</td>\n",
              "      <td>87.48</td>\n",
              "    </tr>\n",
              "    <tr>\n",
              "      <th>8952</th>\n",
              "      <td>2021-06-15</td>\n",
              "      <td>2021-06-15</td>\n",
              "      <td>24 horas</td>\n",
              "      <td>Gustavo Henrique Porto</td>\n",
              "      <td>B2B</td>\n",
              "      <td>Rio de Janeiro</td>\n",
              "      <td>Rio de Janeiro</td>\n",
              "      <td>Sureste</td>\n",
              "      <td>Ropa</td>\n",
              "      <td>Camisetas</td>\n",
              "      <td>395.45</td>\n",
              "      <td>440.46</td>\n",
              "      <td>0.075</td>\n",
              "      <td>407.43</td>\n",
              "      <td>5</td>\n",
              "      <td>2037.15</td>\n",
              "      <td>59.90</td>\n",
              "    </tr>\n",
              "    <tr>\n",
              "      <th>8953</th>\n",
              "      <td>2021-09-03</td>\n",
              "      <td>2021-09-05</td>\n",
              "      <td>Envío rápido</td>\n",
              "      <td>Thales Pires</td>\n",
              "      <td>B2B</td>\n",
              "      <td>Salvador</td>\n",
              "      <td>Bahia</td>\n",
              "      <td>Noreste</td>\n",
              "      <td>Productos de Limpieza</td>\n",
              "      <td>Papel higiénico</td>\n",
              "      <td>45.88</td>\n",
              "      <td>52.73</td>\n",
              "      <td>0.000</td>\n",
              "      <td>52.73</td>\n",
              "      <td>3</td>\n",
              "      <td>158.19</td>\n",
              "      <td>20.55</td>\n",
              "    </tr>\n",
              "  </tbody>\n",
              "</table>\n",
              "<p>8954 rows × 17 columns</p>\n",
              "</div>"
            ],
            "text/plain": [
              "     fecha_pedido fecha_envio        modo_envio          nombre_cliente  \\\n",
              "0      2021-11-09  2021-11-12         Económico         Thiago Silveira   \n",
              "1      2021-11-09  2021-11-12         Económico         Thiago Silveira   \n",
              "2      2021-06-13  2021-06-17         Económico           Giovanna Lima   \n",
              "3      2020-10-12  2020-10-19  Entrega estándar       Ana Júlia da Cruz   \n",
              "4      2020-10-12  2020-10-19  Entrega estándar       Ana Júlia da Cruz   \n",
              "...           ...         ...               ...                     ...   \n",
              "8949   2020-06-19  2020-06-21      Envío rápido          Isabel Almeida   \n",
              "8950   2020-06-19  2020-06-21      Envío rápido          Isabel Almeida   \n",
              "8951   2021-12-04  2021-12-07      Envío rápido              Isis Alves   \n",
              "8952   2021-06-15  2021-06-15          24 horas  Gustavo Henrique Porto   \n",
              "8953   2021-09-03  2021-09-05      Envío rápido            Thales Pires   \n",
              "\n",
              "     segmento_cliente          ciudad          estado   region  \\\n",
              "0                 B2C  Ribeirão Preto       São Paulo  Sureste   \n",
              "1                 B2C  Ribeirão Preto       São Paulo  Sureste   \n",
              "2                 B2B  Rio de Janeiro  Rio de Janeiro  Sureste   \n",
              "3                 B2C   Foz do Iguaçu          Paraná      Sur   \n",
              "4                 B2C   Foz do Iguaçu          Paraná      Sur   \n",
              "...               ...             ...             ...      ...   \n",
              "8949              B2B     São Vicente       São Paulo  Sureste   \n",
              "8950              B2B     São Vicente       São Paulo  Sureste   \n",
              "8951              B2C  Rio de Janeiro  Rio de Janeiro  Sureste   \n",
              "8952              B2B  Rio de Janeiro  Rio de Janeiro  Sureste   \n",
              "8953              B2B        Salvador           Bahia  Noreste   \n",
              "\n",
              "      departamento_producto             tipo_producto  precio_base  \\\n",
              "0                      Ropa                 Camisetas       409.70   \n",
              "1                      Ropa                     Jeans       705.10   \n",
              "2     Productos de Limpieza  Toallitas desinfectantes        19.02   \n",
              "3                      Ropa                Zapatillas       781.38   \n",
              "4     Productos de Limpieza           Papel higiénico        35.88   \n",
              "...                     ...                       ...          ...   \n",
              "8949                   Ropa                     Jeans       522.75   \n",
              "8950  Productos de Limpieza          Bolsas de basura        14.54   \n",
              "8951                   Ropa                  Vestidos        48.83   \n",
              "8952                   Ropa                 Camisetas       395.45   \n",
              "8953  Productos de Limpieza           Papel higiénico        45.88   \n",
              "\n",
              "      precio_unit_sin_desc  descuento  precio_unit_venta  cantidad_pedido  \\\n",
              "0                   445.33      0.000             445.33                2   \n",
              "1                   829.53      0.000             829.53                3   \n",
              "2                    24.86      0.000              24.86                2   \n",
              "3                   840.19      0.225             651.15                5   \n",
              "4                    42.24      0.100              38.02                2   \n",
              "...                    ...        ...                ...              ...   \n",
              "8949                607.40      0.100             546.66                4   \n",
              "8950                 19.58      0.100              17.62                4   \n",
              "8951                 63.41      0.000              63.41                6   \n",
              "8952                440.46      0.075             407.43                5   \n",
              "8953                 52.73      0.000              52.73                3   \n",
              "\n",
              "      total_venta  total_ganancia  \n",
              "0          890.66           71.26  \n",
              "1         2488.59          373.29  \n",
              "2           49.72           11.68  \n",
              "3         3255.75         -651.15  \n",
              "4           76.04            4.28  \n",
              "...           ...             ...  \n",
              "8949      2186.64           95.64  \n",
              "8950        70.48           12.32  \n",
              "8951       380.46           87.48  \n",
              "8952      2037.15           59.90  \n",
              "8953       158.19           20.55  \n",
              "\n",
              "[8954 rows x 17 columns]"
            ]
          },
          "execution_count": 8,
          "metadata": {},
          "output_type": "execute_result"
        }
      ],
      "source": [
        "def obtencion_datos():\n",
        "    global df_ventas\n",
        "    df_ventas = pd.read_csv('reporte_ventas.csv', sep = ',')\n",
        "obtencion_datos()\n",
        "df_ventas"
      ]
    },
    {
      "cell_type": "markdown",
      "metadata": {},
      "source": [
        "Normalización y limpieza de los datos"
      ]
    },
    {
      "cell_type": "code",
      "execution_count": 9,
      "metadata": {
        "id": "Y6GJrD9lKD-V"
      },
      "outputs": [],
      "source": [
        "#Formateamos el tipo de dato de las fechas a uno adecuado\n",
        "df_ventas['fecha_pedido'] = pd.to_datetime(df_ventas['fecha_pedido'], format='%Y-%m-%d')\n",
        "df_ventas['fecha_envio'] = pd.to_datetime(df_ventas['fecha_envio'], format='%Y-%m-%d')\n",
        "\n",
        "#Eliminar repetidos\n",
        "df_ventas_limpio = df_ventas.drop_duplicates()\n",
        "\n",
        "#eliminamos registros de prueba\n",
        "def eliminar_registros_prueba(df):\n",
        "  return df.drop(df[df['nombre_cliente'] == 'prueba'].index)\n",
        "df_ventas_limpio = eliminar_registros_prueba(df_ventas_limpio)\n",
        "\n",
        "#reiniciamos el index\n",
        "df_ventas_limpio.reset_index(inplace=True)\n",
        "df_ventas_limpio.drop(columns=['index'], inplace=True)\n",
        "\n",
        "#Reemplazamos los nombres de clientes NaN por el valor \"missing\"\n",
        "df_ventas_limpio['nombre_cliente'].fillna('missing', inplace=True)\n"
      ]
    },
    {
      "cell_type": "markdown",
      "metadata": {},
      "source": [
        "1. ¿Cuáles son las ventas totales por año? ¿Y qué año tuvo mejor desempeño? (Pablo)"
      ]
    },
    {
      "cell_type": "code",
      "execution_count": null,
      "metadata": {},
      "outputs": [],
      "source": [
        "#Code here\n",
        "df_ventas_limpio"
      ]
    },
    {
      "cell_type": "markdown",
      "metadata": {},
      "source": [
        "2. ¿Cuáles son los 7 productos que más ganancias mostraron durante todo el periodo?"
      ]
    },
    {
      "cell_type": "code",
      "execution_count": null,
      "metadata": {},
      "outputs": [],
      "source": [
        "#Code here\n",
        "df_ventas_limpio"
      ]
    },
    {
      "cell_type": "markdown",
      "metadata": {},
      "source": [
        "3. ¿Si separamos las ventas totales por año y por regiones ¿Qué insight podemos obtener de nuestras ventas? (Jhojan)"
      ]
    },
    {
      "cell_type": "code",
      "execution_count": null,
      "metadata": {},
      "outputs": [],
      "source": [
        "#Code here\n",
        "df_ventas_limpio"
      ]
    },
    {
      "cell_type": "markdown",
      "metadata": {},
      "source": [
        "4. ¿Cuál es el método de envío más utilizado por los clientes del Supermercado? ¿Es proporcional para B2B y B2C?"
      ]
    },
    {
      "cell_type": "code",
      "execution_count": 11,
      "metadata": {},
      "outputs": [
        {
          "data": {
            "image/png": "[encoded data removed]",
            "text/plain": [
              "<Figure size 1500x700 with 1 Axes>"
            ]
          },
          "metadata": {},
          "output_type": "display_data"
        }
      ],
      "source": [
        "#Code here\n",
        "def pregunta_4():\n",
        "  #Preparando los datos\n",
        "  global df_ventas_limpio\n",
        "  df_modo_envio = df_ventas_limpio[['modo_envio', 'segmento_cliente']].copy()\n",
        "  modo_envio = df_modo_envio['modo_envio']\n",
        "  segmento = df_modo_envio['segmento_cliente']\n",
        "  df_modo_envio = pd.crosstab(index=modo_envio, columns=segmento).sort_values('B2B')\n",
        "  #Graficando\n",
        "  fig, ax = plt.subplots(figsize=(15,7))\n",
        "  plt.box(False)\n",
        "  plt.gca().xaxis.set_visible(False)\n",
        "  plt.title('Método de envío más utilizado', loc='left', fontsize=20)\n",
        "  plt.text(0,3.5,'B2B', color='#0077b6', fontweight='bold', fontsize=12)\n",
        "  plt.text(180,3.5,'|', fontsize=12)\n",
        "  plt.text(220,3.5,'B2C', color='#9CACC9', fontweight='bold', fontsize=12)\n",
        "  x = df_modo_envio.index\n",
        "  y1 = df_modo_envio['B2B']\n",
        "  y2 = df_modo_envio['B2C']\n",
        "  ax.barh(x, y1, color='#0077b6')\n",
        "  ax.barh(x, y2, left=y1, color='#BECADF')\n",
        "  for container in ax.containers:\n",
        "    ax.bar_label(container, label_type='center', labels = (), color=\"white\", fontweight=\"bold\")\n",
        "\n",
        "pregunta_4()\n",
        "\n",
        "\n"
      ]
    },
    {
      "cell_type": "markdown",
      "metadata": {},
      "source": [
        "5. ¿Cuáles son las ventas totales por trimestre en el estado de Sao Paulo? (Everardo)"
      ]
    },
    {
      "cell_type": "code",
      "execution_count": null,
      "metadata": {},
      "outputs": [],
      "source": [
        "#Code here\n",
        "df_ventas_limpio"
      ]
    },
    {
      "cell_type": "markdown",
      "metadata": {},
      "source": [
        "6. ¿Existe otro insight que puedas proporcionar?"
      ]
    },
    {
      "cell_type": "code",
      "execution_count": null,
      "metadata": {},
      "outputs": [],
      "source": [
        "#Code here\n",
        "df_ventas_limpio"
      ]
    }
  ],
  "metadata": {
    "colab": {
      "provenance": []
    },
    "kernelspec": {
      "display_name": "Python 3",
      "name": "python3"
    },
    "language_info": {
      "codemirror_mode": {
        "name": "ipython",
        "version": 3
      },
      "file_extension": ".py",
      "mimetype": "text/x-python",
      "name": "python",
      "nbconvert_exporter": "python",
      "pygments_lexer": "ipython3",
      "version": "3.12.0"
    }
  },
  "nbformat": 4,
  "nbformat_minor": 0
}
