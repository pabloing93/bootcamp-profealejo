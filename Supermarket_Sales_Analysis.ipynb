{
  "cells": [
    {
      "cell_type": "markdown",
      "metadata": {
        "id": "PLtaci64wd6r"
      },
      "source": [
        "##SUPERMARKET SALES ANALYSIS"
      ]
    },
    {
      "cell_type": "markdown",
      "metadata": {
        "id": "wACpGYcDzDEW"
      },
      "source": [
        "Importando librerias"
      ]
    },
    {
      "cell_type": "code",
      "execution_count": 1,
      "metadata": {
        "id": "g_HJHRQov5Va"
      },
      "outputs": [],
      "source": [
        "import pandas as pd\n",
        "import matplotlib.pyplot as plt\n",
        "import matplotlib.dates as mdates\n",
        "import datetime\n",
        "import numpy"
      ]
    },
    {
      "cell_type": "markdown",
      "metadata": {
        "id": "-dK1tOrby5CS"
      },
      "source": [
        "Variables Globales"
      ]
    },
    {
      "cell_type": "code",
      "execution_count": 2,
      "metadata": {
        "id": "fngz8fMmxqYl"
      },
      "outputs": [],
      "source": [
        "global df_ventas\n",
        "global df_ventas_limpio"
      ]
    },
    {
      "cell_type": "markdown",
      "metadata": {
        "id": "3zy0f2_nR2Ie"
      },
      "source": [
        "*Importando la Base de Datos .csv*"
      ]
    },
    {
      "cell_type": "code",
      "execution_count": 3,
      "metadata": {
        "id": "5U2vwyqTykjp"
      },
      "outputs": [],
      "source": [
        "def obtencion_datos():\n",
        "    global df_ventas\n",
        "    df_ventas = pd.read_csv('reporte_ventas.csv', sep = ',')\n",
        "obtencion_datos()"
      ]
    },
    {
      "cell_type": "markdown",
      "metadata": {
        "id": "Uv-DnNT3mdIW"
      },
      "source": [
        "Normalización y limpieza de los datos"
      ]
    },
    {
      "cell_type": "code",
      "execution_count": 4,
      "metadata": {
        "id": "Y6GJrD9lKD-V"
      },
      "outputs": [],
      "source": [
        "#Formateamos el tipo de dato de las fechas a uno adecuado\n",
        "df_ventas['fecha_pedido'] = pd.to_datetime(df_ventas['fecha_pedido'], format='%Y-%m-%d')\n",
        "df_ventas['fecha_envio'] = pd.to_datetime(df_ventas['fecha_envio'], format='%Y-%m-%d')\n",
        "\n",
        "#Eliminar repetidos\n",
        "df_ventas_limpio = df_ventas.drop_duplicates()\n",
        "\n",
        "#Eliminamos registros de prueba\n",
        "def eliminar_registros_prueba(df):\n",
        "  return df.drop(df[df['nombre_cliente'] == 'prueba'].index)\n",
        "df_ventas_limpio = eliminar_registros_prueba(df_ventas_limpio)\n",
        "\n",
        "#Reemplazamos los nombres de clientes NaN por el valor \"missing\"\n",
        "df_ventas_limpio['nombre_cliente'].fillna('missing', inplace=True)"
      ]
    },
    {
      "cell_type": "code",
      "source": [
        "# Filtrar los registros con total_ganancia > 0\n",
        "df_ventas_limpio = df_ventas.drop(df_ventas[df_ventas[\"total_ganancia\"]  <= 0].index)\n",
        "\n",
        "#reiniciamos el index\n",
        "df_ventas_limpio.reset_index(inplace=True)\n",
        "df_ventas_limpio.drop(columns=['index'], inplace=True)"
      ],
      "metadata": {
        "id": "Ix9D0kXUCU0n"
      },
      "execution_count": 5,
      "outputs": []
    },
    {
      "cell_type": "code",
      "source": [
        "df_ventas_limpio"
      ],
      "metadata": {
        "id": "zf2blGcYJq5L"
      },
      "execution_count": null,
      "outputs": []
    },
    {
      "cell_type": "code",
      "execution_count": null,
      "metadata": {
        "id": "CaGa6XYqmdIY"
      },
      "outputs": [],
      "source": [
        "#Code here\n"
      ]
    },
    {
      "cell_type": "markdown",
      "source": [
        "##PREPARACIÓN DE LOS DATOS"
      ],
      "metadata": {
        "id": "qr1eZWE3gRWu"
      }
    },
    {
      "cell_type": "markdown",
      "metadata": {
        "id": "ZSMeQvKQmdIY"
      },
      "source": [
        "2. ¿Cuáles son los 7 productos que más ganancias mostraron durante todo el periodo?"
      ]
    },
    {
      "cell_type": "code",
      "execution_count": 7,
      "metadata": {
        "id": "jAhwilrtmdIY"
      },
      "outputs": [],
      "source": [
        "#Función pregunta_2()\n",
        "def pregunta_2():\n",
        "    # Definimos las variables globales\n",
        "    global df_ventas\n",
        "    global df_ventas_limpio"
      ]
    },
    {
      "cell_type": "code",
      "source": [
        "\n",
        "df_top_ganancias = df_ventas_limpio[['tipo_producto', 'total_ganancia']].copy()"
      ],
      "metadata": {
        "id": "gEXiAt31sglc"
      },
      "execution_count": 8,
      "outputs": []
    },
    {
      "cell_type": "code",
      "source": [
        "\n",
        "df_top_ganancias = df_top_ganancias.groupby('tipo_producto').agg({'total_ganancia': 'sum'}).reset_index()\n",
        "\n",
        "df_top_ganancias = df_top_ganancias.sort_values(by='total_ganancia', ascending=False)\n",
        "\n",
        "df_top_ganancias = df_top_ganancias.head(7)\n",
        "\n",
        "# Imprime el resultado\n",
        "print(df_top_ganancias.to_string(index=False))\n"
      ],
      "metadata": {
        "id": "ddUP2oLcrwB-"
      },
      "execution_count": null,
      "outputs": []
    },
    {
      "cell_type": "markdown",
      "source": [
        "##VISUALIZACIÓN"
      ],
      "metadata": {
        "id": "hYd-GLtpgDlJ"
      }
    },
    {
      "cell_type": "code",
      "execution_count": null,
      "metadata": {
        "id": "JxJXV384mdIZ"
      },
      "outputs": [],
      "source": [
        "# Configuración de la figura y el eje\n",
        "fig, ax = plt.subplots(figsize=(10, 4))\n",
        "\n",
        "ejeX = df_top_ganancias['tipo_producto']\n",
        "ejeY = df_top_ganancias['total_ganancia']\n",
        "\n",
        "colores = ['#062075','#40036e','#0077b6','#0C8040','#9c2e09', '#5c0404','#565e66']\n",
        "\n",
        "barras = ax.barh(ejeX, ejeY, color=colores, align='center')\n",
        "\n",
        "for barra in barras:\n",
        "  width = barra.get_width()\n",
        "  ax.text(width, barra.get_y() + barra.get_height() / 2, f'USD ${width:.2f}', ha='right', va='center', color='white', weight='bold')\n",
        "\n",
        "ax.set_title('Top 7 productos con mayor ganancia (2019-2022)')\n",
        "ax.set_xlabel('Total de Ganancias')\n",
        "ax.set_ylabel('Tipo de Producto')\n",
        "\n",
        "# Mostrar el gráfico\n",
        "plt.show()\n"
      ]
    },
    {
      "cell_type": "code",
      "source": [],
      "metadata": {
        "id": "yomna_Ox0tkb"
      },
      "execution_count": null,
      "outputs": []
    },
    {
      "cell_type": "markdown",
      "metadata": {
        "id": "Fzo0DtOemdIX"
      },
      "source": [
        "1. ¿Cuáles son las ventas totales por año? ¿Y qué año tuvo mejor desempeño? (Pablo)"
      ]
    },
    {
      "cell_type": "markdown",
      "metadata": {
        "id": "mLMsD5XsmdIZ"
      },
      "source": [
        "3. ¿Si separamos las ventas totales por año y por regiones ¿Qué insight podemos obtener de nuestras ventas? (Jhojan)"
      ]
    },
    {
      "cell_type": "markdown",
      "metadata": {
        "id": "SeYi1rvUmdIZ"
      },
      "source": [
        "4. ¿Cuál es el método de envío más utilizado por los clientes del Supermercado? ¿Es proporcional para B2B y B2C?"
      ]
    },
    {
      "cell_type": "markdown",
      "metadata": {
        "id": "rSbLMPsEmdIa"
      },
      "source": [
        "5. ¿Cuáles son las ventas totales por trimestre en el estado de Sao Paulo? (Everardo)"
      ]
    },
    {
      "cell_type": "code",
      "execution_count": null,
      "metadata": {
        "id": "yb6iMgPMmdIZ"
      },
      "outputs": [],
      "source": [
        "#Code here\n"
      ]
    },
    {
      "cell_type": "markdown",
      "metadata": {
        "id": "kukerMSGmdIa"
      },
      "source": [
        "6. ¿Existe otro insight que puedas proporcionar?"
      ]
    }
  ],
  "metadata": {
    "colab": {
      "provenance": []
    },
    "kernelspec": {
      "display_name": "Python 3",
      "name": "python3"
    },
    "language_info": {
      "codemirror_mode": {
        "name": "ipython",
        "version": 3
      },
      "file_extension": ".py",
      "mimetype": "text/x-python",
      "name": "python",
      "nbconvert_exporter": "python",
      "pygments_lexer": "ipython3",
      "version": "3.12.0"
    }
  },
  "nbformat": 4,
  "nbformat_minor": 0
}