{
  "nbformat": 4,
  "nbformat_minor": 0,
  "metadata": {
    "colab": {
      "provenance": []
    },
    "kernelspec": {
      "name": "python3",
      "display_name": "Python 3"
    },
    "language_info": {
      "name": "python"
    }
  },
  "cells": [
    {
      "cell_type": "markdown",
      "source": [
        "##SUPERMARKET SALES ANALYSIS"
      ],
      "metadata": {
        "id": "PLtaci64wd6r"
      }
    },
    {
      "cell_type": "markdown",
      "source": [
        "Importando librerias"
      ],
      "metadata": {
        "id": "wACpGYcDzDEW"
      }
    },
    {
      "cell_type": "code",
      "execution_count": 27,
      "metadata": {
        "id": "g_HJHRQov5Va"
      },
      "outputs": [],
      "source": [
        "import pandas as pd\n",
        "import matplotlib.pyplot as plt\n",
        "import matplotlib.dates as mdates\n",
        "import datetime"
      ]
    },
    {
      "cell_type": "markdown",
      "source": [
        "Versión de las librerias"
      ],
      "metadata": {
        "id": "Ae7COSw_yud1"
      }
    },
    {
      "cell_type": "code",
      "source": [
        "#!python -V\n",
        "#print('------')\n",
        "#!pip show Pandas | grep 'Name\\|Version'\n",
        "#print('------')\n",
        "#!pip show Matplotlib | grep 'Name\\|Version'"
      ],
      "metadata": {
        "id": "juADY8Rsydgt"
      },
      "execution_count": 28,
      "outputs": []
    },
    {
      "cell_type": "markdown",
      "source": [
        "Variables Globales"
      ],
      "metadata": {
        "id": "-dK1tOrby5CS"
      }
    },
    {
      "cell_type": "code",
      "source": [
        "global df_ventas\n",
        "global df_ventas_limpio"
      ],
      "metadata": {
        "id": "fngz8fMmxqYl"
      },
      "execution_count": 29,
      "outputs": []
    },
    {
      "cell_type": "markdown",
      "source": [
        "*Importando la Base de Datos .csv*"
      ],
      "metadata": {
        "id": "3zy0f2_nR2Ie"
      }
    },
    {
      "cell_type": "code",
      "source": [
        "def obtencion_datos():\n",
        "    global df_ventas\n",
        "    df_ventas = pd.read_csv('reporte_ventas.csv', sep = ',')\n",
        "obtencion_datos()"
      ],
      "metadata": {
        "id": "5U2vwyqTykjp"
      },
      "execution_count": 30,
      "outputs": []
    },
    {
      "cell_type": "code",
      "source": [
        "# Imprimir los datos\n",
        "df_ventas"
      ],
      "metadata": {
        "id": "s9tDVtDGyk4x"
      },
      "execution_count": null,
      "outputs": []
    },
    {
      "cell_type": "code",
      "source": [
        "type(df_ventas)"
      ],
      "metadata": {
        "id": "XK4-Zm6Hyk_A",
        "colab": {
          "base_uri": "https://localhost:8080/"
        },
        "outputId": "d4d2ae5b-2cdf-4322-9ab8-d0ae4ff2b46c"
      },
      "execution_count": 32,
      "outputs": [
        {
          "output_type": "execute_result",
          "data": {
            "text/plain": [
              "pandas.core.frame.DataFrame"
            ]
          },
          "metadata": {},
          "execution_count": 32
        }
      ]
    },
    {
      "cell_type": "code",
      "source": [
        "#Formato Fecha\n",
        "\n",
        "df_ventas['fecha_pedido'] = pd.to_datetime(df_ventas['fecha_pedido'], format='%Y-%m-%d')\n",
        "df_ventas['fecha_envio'] = pd.to_datetime(df_ventas['fecha_envio'], format='%Y-%m-%d')"
      ],
      "metadata": {
        "id": "oo7j2Sx7EBWQ"
      },
      "execution_count": 33,
      "outputs": []
    },
    {
      "cell_type": "code",
      "source": [
        "# Imprimir los datos\n",
        "df_ventas"
      ],
      "metadata": {
        "id": "rrzjRqstEA9w"
      },
      "execution_count": null,
      "outputs": []
    },
    {
      "cell_type": "code",
      "source": [
        "#Info del dataframe\n",
        "df_ventas.info()"
      ],
      "metadata": {
        "id": "Nj1rTXYCJ_Sb"
      },
      "execution_count": null,
      "outputs": []
    },
    {
      "cell_type": "code",
      "source": [
        "#Eliminar repetidos y guarda el resultado en la variable global df_ventas_limpio\n",
        "df_ventas.duplicated().sum()\n",
        "global df_ventas_limpio\n",
        "df_ventas_limpio = df_ventas.drop_duplicates()"
      ],
      "metadata": {
        "id": "Y6GJrD9lKD-V"
      },
      "execution_count": 56,
      "outputs": []
    },
    {
      "cell_type": "code",
      "source": [
        "df_ventas_limpio"
      ],
      "metadata": {
        "id": "WTA2AsGS9s0r"
      },
      "execution_count": null,
      "outputs": []
    },
    {
      "cell_type": "code",
      "source": [
        "df_ventas"
      ],
      "metadata": {
        "id": "JeDP6ecC-sfS"
      },
      "execution_count": null,
      "outputs": []
    },
    {
      "cell_type": "code",
      "source": [
        "df_ventas_limpio.duplicated().sum()"
      ],
      "metadata": {
        "colab": {
          "base_uri": "https://localhost:8080/"
        },
        "id": "7IodUU6n_JSu",
        "outputId": "e73f8038-faea-4977-83ef-b7a2205b98e6"
      },
      "execution_count": 60,
      "outputs": [
        {
          "output_type": "execute_result",
          "data": {
            "text/plain": [
              "0"
            ]
          },
          "metadata": {},
          "execution_count": 60
        }
      ]
    },
    {
      "cell_type": "code",
      "source": [],
      "metadata": {
        "id": "LsEgdeG7JXU_"
      },
      "execution_count": null,
      "outputs": []
    },
    {
      "cell_type": "code",
      "source": [],
      "metadata": {
        "id": "HSJ4MIC6MAGO"
      },
      "execution_count": null,
      "outputs": []
    }
  ]
}